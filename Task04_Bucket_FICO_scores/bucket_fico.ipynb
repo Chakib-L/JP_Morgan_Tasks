{
 "cells": [
  {
   "cell_type": "code",
   "execution_count": 1,
   "id": "79483404",
   "metadata": {},
   "outputs": [],
   "source": [
    "import numpy as np\n",
    "import numpy.typing as npt\n",
    "\n",
    "from typing import List"
   ]
  },
  {
   "cell_type": "markdown",
   "id": "2fae5361",
   "metadata": {
    "vscode": {
     "languageId": "bat"
    }
   },
   "source": [
    "#### Formule mathématique \n",
    "\n",
    "Soit $x_{1} < x_{2} < \\ldots < x_{N}$ les N scores FICO et $n$ le nombre de buckets.\n",
    "\n",
    "Si $dp[i][j]$ représente l'erreur quadratique totale minimale lors du partitionnement des $i$ premiers points de données en $j$ buckets, alors nous avons :\n",
    "\n",
    "$$dp[i][j] = \\min_{k=j-1}^{i-1} \\left( dp[k][j-1] + \\text{error}(k+1, i) \\right)$$\n",
    "\n",
    "où :\n",
    "\n",
    "$$\\text{error}(a, b) = \\sum_{i=a}^{b} (x_{i} - \\overline{x})^2$$\n",
    "\n",
    "avec $\\overline{x}$ la moyenne des scores FICO de tout le bucket (de $a$ à $b$) :\n",
    "\n",
    "$$\\overline{x} = \\frac{1}{b-a+1} \\sum_{i=a}^{b} x_{i}$$"
   ]
  },
  {
   "cell_type": "code",
   "execution_count": 2,
   "id": "286a1e5d",
   "metadata": {},
   "outputs": [],
   "source": [
    "def error(a: int, b: int, x: npt.ArrayLike) -> float:\n",
    "    \"\"\"0<=a,b<n\"\"\"\n",
    "    return np.var(x[a:b+1])\n",
    "\n",
    "def find_bucket(x: npt.ArrayLike, n: int) -> List[int]:\n",
    "\n",
    "    x = np.sort(x)\n",
    "    N = len(x)\n",
    "\n",
    "    dp = np.zeros((N, n))\n",
    "    mini = np.zeros((N, n))\n",
    "\n",
    "\n",
    "    for j in range(1, n):\n",
    "        for i in range(N):\n",
    "            fico_mini = np.inf\n",
    "            x_mini = 0\n",
    "            for k in range(j-1, i):\n",
    "                res = dp[k][j-1] + error(k+1, i)\n",
    "                if res < fico_mini:\n",
    "                    fico_mini = res\n",
    "                    x_mini = x[k]\n",
    "            mini[i][j] = x_mini\n",
    "            dp[i][j] = fico_mini\n",
    "\n",
    "    # Reconstruction de la liste des indices L\n",
    "    L = []\n",
    "    nb_points = N # au début n points à traiter\n",
    "    for t in range(1, n+1):\n",
    "        L.append(mini[nb_points, n-t])\n",
    "        nb_points = mini[nb_points, n-t]\n",
    "\n",
    "    return L\n",
    "                \n",
    "\n"
   ]
  }
 ],
 "metadata": {
  "kernelspec": {
   "display_name": ".venv",
   "language": "python",
   "name": "python3"
  },
  "language_info": {
   "codemirror_mode": {
    "name": "ipython",
    "version": 3
   },
   "file_extension": ".py",
   "mimetype": "text/x-python",
   "name": "python",
   "nbconvert_exporter": "python",
   "pygments_lexer": "ipython3",
   "version": "3.12.1"
  }
 },
 "nbformat": 4,
 "nbformat_minor": 5
}
